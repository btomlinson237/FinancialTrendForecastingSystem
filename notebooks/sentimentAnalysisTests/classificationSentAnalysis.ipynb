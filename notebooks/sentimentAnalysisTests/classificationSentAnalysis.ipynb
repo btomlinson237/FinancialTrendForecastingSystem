{
 "cells": [
  {
   "cell_type": "code",
   "execution_count": 1,
   "metadata": {},
   "outputs": [],
   "source": [
    "import pandas as pd\n",
    "import datetime as dt"
   ]
  },
  {
   "cell_type": "code",
   "execution_count": 2,
   "metadata": {},
   "outputs": [
    {
     "name": "stdout",
     "output_type": "stream",
     "text": [
      "datetime64[ns, UTC]\n",
      "datetime64[ns, UTC]\n"
     ]
    }
   ],
   "source": [
    "aapl_text = pd.read_csv('../data/cleaned_AAPL_NEWS.csv')\n",
    "aapl_finance = pd.read_csv('../data/AAPL_FULL_FINANCIAL.csv')\n",
    "\n",
    "\n",
    "aapl_text['date'] = pd.to_datetime(aapl_text['date'], errors='coerce', utc=True)\n",
    "aapl_finance['Date'] = pd.to_datetime(aapl_finance['Date'], errors='coerce', utc=True)\n",
    "\n",
    "# Check the data types to ensure they were properly converted\n",
    "print(aapl_text['date'].dtype)  # Should be datetime64[ns, UTC]\n",
    "print(aapl_finance['Date'].dtype)  # Should be datetime64[ns, UTC]"
   ]
  },
  {
   "cell_type": "code",
   "execution_count": 3,
   "metadata": {},
   "outputs": [],
   "source": [
    "aapl_text['Date'] = aapl_text['date'].dt.date\n",
    "aapl_finance['Date'] = aapl_finance['Date'].dt.date\n",
    "\n",
    "aapl_text.drop('date',axis=1, inplace=True)\n"
   ]
  },
  {
   "cell_type": "code",
   "execution_count": 4,
   "metadata": {},
   "outputs": [
    {
     "name": "stdout",
     "output_type": "stream",
     "text": [
      "          Date      Close  Label     SMA_20     EMA_20      MACD  Signal_Line  \\\n",
      "0   2019-11-11  63.549580      0        NaN  63.549580  0.000000     0.000000   \n",
      "1   2019-11-12  63.491405      1        NaN  63.544039 -0.004641    -0.000928   \n",
      "2   2019-11-13  64.099770     -1        NaN  63.596966  0.040307     0.007319   \n",
      "3   2019-11-14  63.656223      1        NaN  63.602609  0.039680     0.013791   \n",
      "4   2019-11-15  64.412422      0        NaN  63.679735  0.099061     0.030845   \n",
      "5   2019-11-18  64.737206     -1        NaN  63.780446  0.170363     0.058749   \n",
      "6   2019-11-19  64.540878      0        NaN  63.852868  0.208625     0.088724   \n",
      "7   2019-11-20  63.789539      0        NaN  63.846837  0.176288     0.106237   \n",
      "8   2019-11-21  63.503529      0        NaN  63.814141  0.126128     0.110215   \n",
      "9   2019-11-22  63.447792      1        NaN  63.779250  0.080946     0.104361   \n",
      "10  2019-11-25  64.560272     -1        NaN  63.853633  0.133369     0.110163   \n",
      "11  2019-11-26  64.056145      1        NaN  63.872920  0.132706     0.114671   \n",
      "12  2019-11-27  64.916557     -1        NaN  63.972314  0.199311     0.131599   \n",
      "13  2019-11-29  64.773537      0        NaN  64.048621  0.237814     0.152842   \n",
      "14  2019-12-02  64.024635      0        NaN  64.046337  0.205529     0.163380   \n",
      "15  2019-12-03  62.883064      1        NaN  63.935549  0.086826     0.148069   \n",
      "16  2019-12-04  63.438095      0        NaN  63.888172  0.037112     0.125878   \n",
      "17  2019-12-05  64.368782      0        NaN  63.933945  0.071983     0.115099   \n",
      "18  2019-12-06  65.612137     -1        NaN  64.093773  0.197667     0.131612   \n",
      "19  2019-12-09  64.693581      1  64.127757  64.150897  0.220610     0.149412   \n",
      "20  2019-12-10  65.071678      0  64.203862  64.238591  0.266233     0.172776   \n",
      "21  2019-12-11  65.626709      0  64.310628  64.370792  0.343220     0.206865   \n",
      "22  2019-12-12  65.793938      0  64.395336  64.506330  0.412965     0.248085   \n",
      "23  2019-12-13  66.688278      0  64.546939  64.714135  0.534247     0.305317   \n",
      "24  2019-12-16  67.829834      0  64.717809  65.010868  0.714244     0.387103   \n",
      "25  2019-12-17  67.963150     -1  64.879107  65.292038  0.857763     0.481235   \n",
      "26  2019-12-18  67.800743      1  65.042100  65.530962  0.947475     0.574483   \n",
      "27  2019-12-19  67.868629     -1  65.246054  65.753597  1.012381     0.662062   \n",
      "28  2019-12-20  67.728043      1  65.457280  65.941639  1.040481     0.737746   \n",
      "29  2019-12-23  68.833252      0  65.726553  66.217031  1.138805     0.817958   \n",
      "30  2019-12-24  68.898705      0  65.943475  66.472429  1.208082     0.895983   \n",
      "31  2019-12-26  70.265678     -1  66.253951  66.833690  1.357638     0.988314   \n",
      "32  2019-12-27  70.238998      1  66.520073  67.158005  1.457212     1.082093   \n",
      "33  2019-12-30  70.655884      0  66.814191  67.491137  1.551875     1.176050   \n",
      "34  2019-12-31  71.172134      0  67.171566  67.841708  1.649538     1.270747   \n",
      "35  2020-01-02  72.796028     -1  67.667214  68.313548  1.836798     1.383958   \n",
      "36  2020-01-03  72.088295      1  68.099724  68.673048  1.906122     1.488391   \n",
      "37  2020-01-06  72.662720     -1  68.514421  69.053016  1.984537     1.587620   \n",
      "38  2020-01-07  72.320984      1  68.849863  69.364251  1.996096     1.669315   \n",
      "39  2020-01-08  73.484344      0  69.289401  69.756641  2.075209     1.750494   \n",
      "\n",
      "      High_20     Low_20   Fib_23.6   Fib_38.2   Fib_61.8          %K  \\\n",
      "0         NaN        NaN        NaN        NaN        NaN         NaN   \n",
      "1         NaN        NaN        NaN        NaN        NaN         NaN   \n",
      "2         NaN        NaN        NaN        NaN        NaN         NaN   \n",
      "3         NaN        NaN        NaN        NaN        NaN         NaN   \n",
      "4         NaN        NaN        NaN        NaN        NaN         NaN   \n",
      "5         NaN        NaN        NaN        NaN        NaN         NaN   \n",
      "6         NaN        NaN        NaN        NaN        NaN         NaN   \n",
      "7         NaN        NaN        NaN        NaN        NaN         NaN   \n",
      "8         NaN        NaN        NaN        NaN        NaN         NaN   \n",
      "9         NaN        NaN        NaN        NaN        NaN         NaN   \n",
      "10        NaN        NaN        NaN        NaN        NaN         NaN   \n",
      "11        NaN        NaN        NaN        NaN        NaN         NaN   \n",
      "12        NaN        NaN        NaN        NaN        NaN         NaN   \n",
      "13        NaN        NaN        NaN        NaN        NaN   90.262526   \n",
      "14        NaN        NaN        NaN        NaN        NaN   39.274027   \n",
      "15        NaN        NaN        NaN        NaN        NaN    0.000000   \n",
      "16        NaN        NaN        NaN        NaN        NaN   27.294454   \n",
      "17        NaN        NaN        NaN        NaN        NaN   73.062349   \n",
      "18        NaN        NaN        NaN        NaN        NaN  100.000000   \n",
      "19  65.612137  62.883064  63.527125  63.925570  64.569631   66.341818   \n",
      "20  65.612137  62.883064  63.527125  63.925570  64.569631   80.196251   \n",
      "21  65.626709  62.883064  63.530564  63.931137  64.578637  100.000000   \n",
      "22  65.793938  62.883064  63.570030  63.995018  64.681984  100.000000   \n",
      "23  66.688278  62.883064  63.781095  64.336656  65.234686  100.000000   \n",
      "24  67.829834  62.883064  64.050502  64.772730  65.940168  100.000000   \n",
      "25  67.963150  62.883064  64.081965  64.823657  66.022557  100.000000   \n",
      "26  67.963150  62.883064  64.081965  64.823657  66.022557   96.803067   \n",
      "27  67.963150  62.883064  64.081965  64.823657  66.022557   98.139390   \n",
      "28  67.963150  62.883064  64.081965  64.823657  66.022557   95.371979   \n",
      "29  68.833252  62.883064  64.287309  65.156036  66.560280  100.000000   \n",
      "30  68.898705  62.883064  64.302755  65.181039  66.600730  100.000000   \n",
      "31  70.265678  62.883064  64.625361  65.703223  67.445520  100.000000   \n",
      "32  70.265678  62.883064  64.625361  65.703223  67.445520   99.521186   \n",
      "33  70.655884  62.883064  64.717450  65.852281  67.686667  100.000000   \n",
      "34  71.172134  62.883064  64.839285  66.049489  68.005710  100.000000   \n",
      "35  72.796028  63.438095  65.646567  67.012826  69.221298  100.000000   \n",
      "36  72.796028  64.368782  66.357612  67.587990  69.576820   88.412539   \n",
      "37  72.796028  64.693581  66.605758  67.788716  69.700893   97.369598   \n",
      "38  72.796028  64.693581  66.605758  67.788716  69.700893   90.626567   \n",
      "39  73.484344  65.071678  67.057067  68.285317  70.270706  100.000000   \n",
      "\n",
      "            %D     BB_Mid   BB_Upper   BB_Lower        RSI  Std_Dev_20  \\\n",
      "0          NaN        NaN        NaN        NaN        NaN         NaN   \n",
      "1          NaN        NaN        NaN        NaN        NaN         NaN   \n",
      "2          NaN        NaN        NaN        NaN        NaN         NaN   \n",
      "3          NaN        NaN        NaN        NaN        NaN         NaN   \n",
      "4          NaN        NaN        NaN        NaN        NaN         NaN   \n",
      "5          NaN        NaN        NaN        NaN        NaN         NaN   \n",
      "6          NaN        NaN        NaN        NaN        NaN         NaN   \n",
      "7          NaN        NaN        NaN        NaN        NaN         NaN   \n",
      "8          NaN        NaN        NaN        NaN        NaN         NaN   \n",
      "9          NaN        NaN        NaN        NaN        NaN         NaN   \n",
      "10         NaN        NaN        NaN        NaN        NaN         NaN   \n",
      "11         NaN        NaN        NaN        NaN        NaN         NaN   \n",
      "12         NaN        NaN        NaN        NaN        NaN         NaN   \n",
      "13         NaN        NaN        NaN        NaN  60.031578         NaN   \n",
      "14         NaN        NaN        NaN        NaN  53.467852         NaN   \n",
      "15   43.178851        NaN        NaN        NaN  46.165668         NaN   \n",
      "16   22.189494        NaN        NaN        NaN  45.801284         NaN   \n",
      "17   33.452268        NaN        NaN        NaN  54.258340         NaN   \n",
      "18   66.785601        NaN        NaN        NaN  56.775153         NaN   \n",
      "19   79.801389  64.127757  65.457616  62.797899  49.769121    0.664929   \n",
      "20   82.179356  64.203862  65.568170  62.839554  52.756163    0.682154   \n",
      "21   82.179356  64.310628  65.771000  62.850255  59.737974    0.730186   \n",
      "22   93.398750  64.395336  65.994185  62.796487  62.295207    0.799424   \n",
      "23  100.000000  64.546939  66.404732  62.689145  65.958521    0.928897   \n",
      "24  100.000000  64.717809  67.082884  62.352734  66.055731    1.182538   \n",
      "25  100.000000  64.879107  67.654223  62.103990  69.911140    1.387558   \n",
      "26   98.934356  65.042100  68.101899  61.982301  65.824398    1.529900   \n",
      "27   98.314153  65.246054  68.492418  61.999690  67.122733    1.623182   \n",
      "28   96.771479  65.457280  68.775213  62.139347  71.966556    1.658966   \n",
      "29   97.837123  65.726553  69.226935  62.226171  85.446108    1.750191   \n",
      "30   98.457326  65.943475  69.669950  62.216999  84.544599    1.863238   \n",
      "31  100.000000  66.253951  70.336081  62.171822  85.353111    2.041065   \n",
      "32   99.840395  66.520073  70.916927  62.123220  82.476855    2.198427   \n",
      "33   99.840395  66.814191  71.496811  62.131570  95.021275    2.341310   \n",
      "34   99.840395  67.171566  72.044880  62.298251  95.123028    2.436657   \n",
      "35  100.000000  67.667214  72.717251  62.617177  95.788890    2.525019   \n",
      "36   96.137513  68.099724  73.106201  63.093246  87.604425    2.503239   \n",
      "37   95.260712  68.514421  73.593157  63.435685  87.111765    2.539368   \n",
      "38   92.136234  68.849863  74.007089  63.692637  80.975860    2.578613   \n",
      "39   95.998721  69.289401  74.453559  64.125243  83.342640    2.582079   \n",
      "\n",
      "                                         top_5_titles  \n",
      "0                                                 NaN  \n",
      "1                                                 NaN  \n",
      "2   Apple Plans Mega Bundle of Music, News, TV as ...  \n",
      "3                                                 NaN  \n",
      "4                                                 NaN  \n",
      "5                                                 NaN  \n",
      "6   Here’s what happened at Tim Cook’s Mac Pro fac...  \n",
      "7   Apple quietly removes ‘Ratings and Reviews’ se...  \n",
      "8   AirPods Pro Will Double Apple’s True-Wireless ...  \n",
      "9                                                 NaN  \n",
      "10                                                NaN  \n",
      "11                                                NaN  \n",
      "12                                                NaN  \n",
      "13  Ford (NYSE:F) and Liquidmetal Technologies Inc...  \n",
      "14                                                NaN  \n",
      "15                                                NaN  \n",
      "16                                                NaN  \n",
      "17  Alphabet Has a New CEO. 4 Ways Google’s Sundar...  \n",
      "18                                                NaN  \n",
      "19  The Rise Of Wearables: This Is Why Investors S...  \n",
      "20  U.S. Justice Department to review Google’s dea...  \n",
      "21  Saudi Aramco Has a $2 Trillion Market Cap. But...  \n",
      "22                                                NaN  \n",
      "23                                                NaN  \n",
      "24  Things Could Get Worse for Boeing Stock - Inve...  \n",
      "25                                                NaN  \n",
      "26  Apple, Amazon, Google partner to make smart ho...  \n",
      "27  High Low Yesterday — Indicator by rodrigo.apri...  \n",
      "28  Apple, Amazon, Google partner to make smart ho...  \n",
      "29  Roku Inc (NASDAQ:ROKU) is set well for a Santa...  \n",
      "30                                                NaN  \n",
      "31  AAPL 2019 performance is the best since 2009, ...  \n",
      "32                                                NaN  \n",
      "33  This decade saw Warren Buffett finally turn hi...  \n",
      "34  Apple Strikes New Deal with U.K. Chip Designer...  \n",
      "35                                                NaN  \n",
      "36                                                NaN  \n",
      "37  Foxconn says it's not withdrawing its $5B inve...  \n",
      "38                                                NaN  \n",
      "39  Apple Stock Gets a Huge Boost From Its Massive...  \n"
     ]
    }
   ],
   "source": [
    "aapl_df = pd.merge(aapl_finance, aapl_text, on='Date', how='left')\n",
    "# print(aapl_df.columns)\n",
    "aapl_df.drop('Unnamed: 0_x', axis = 1, inplace=True)\n",
    "aapl_df.drop('Unnamed: 0_y', axis = 1, inplace=True)\n",
    "\n",
    "print(aapl_df.head(40))"
   ]
  },
  {
   "cell_type": "code",
   "execution_count": 5,
   "metadata": {},
   "outputs": [
    {
     "name": "stdout",
     "output_type": "stream",
     "text": [
      "Index(['Date', 'Close', 'Label', 'SMA_20', 'EMA_20', 'MACD', 'Signal_Line',\n",
      "       'High_20', 'Low_20', 'Fib_23.6', 'Fib_38.2', 'Fib_61.8', '%K', '%D',\n",
      "       'BB_Mid', 'BB_Upper', 'BB_Lower', 'RSI', 'Std_Dev_20', 'top_5_titles'],\n",
      "      dtype='object')\n"
     ]
    }
   ],
   "source": [
    "print(aapl_df.columns)"
   ]
  },
  {
   "cell_type": "code",
   "execution_count": 6,
   "metadata": {},
   "outputs": [
    {
     "name": "stderr",
     "output_type": "stream",
     "text": [
      "/Users/bobbytomlinson/Desktop/Coding/School/CS 549/financialTrendForecasting/ftfVenv/lib/python3.12/site-packages/tqdm/auto.py:21: TqdmWarning: IProgress not found. Please update jupyter and ipywidgets. See https://ipywidgets.readthedocs.io/en/stable/user_install.html\n",
      "  from .autonotebook import tqdm as notebook_tqdm\n"
     ]
    }
   ],
   "source": [
    "import numpy as np\n",
    "from textblob import TextBlob\n",
    "from vaderSentiment.vaderSentiment import SentimentIntensityAnalyzer\n",
    "from sklearn.feature_extraction.text import CountVectorizer\n",
    "from transformers import pipeline\n",
    "from sklearn.preprocessing import StandardScaler\n",
    "from tensorflow.keras.models import Sequential\n",
    "from tensorflow.keras.layers import LSTM, Dense, Dropout, Bidirectional\n",
    "from sklearn.model_selection import train_test_split\n",
    "import string"
   ]
  },
  {
   "cell_type": "code",
   "execution_count": 7,
   "metadata": {},
   "outputs": [
    {
     "name": "stderr",
     "output_type": "stream",
     "text": [
      "No model was supplied, defaulted to distilbert/distilbert-base-uncased-finetuned-sst-2-english and revision 714eb0f (https://huggingface.co/distilbert/distilbert-base-uncased-finetuned-sst-2-english).\n",
      "Using a pipeline without specifying a model name and revision in production is not recommended.\n",
      "All PyTorch model weights were used when initializing TFDistilBertForSequenceClassification.\n",
      "\n",
      "All the weights of TFDistilBertForSequenceClassification were initialized from the PyTorch model.\n",
      "If your task is similar to the task the model of the checkpoint was trained on, you can already use TFDistilBertForSequenceClassification for predictions without further training.\n"
     ]
    }
   ],
   "source": [
    "# Initialize VADER Sentiment analyzer\n",
    "vader_analyzer = SentimentIntensityAnalyzer()\n",
    "\n",
    "# Initialize HuggingFace sentiment analysis model\n",
    "transformer_analyzer = pipeline('sentiment-analysis')"
   ]
  },
  {
   "cell_type": "code",
   "execution_count": 8,
   "metadata": {},
   "outputs": [],
   "source": [
    "def textblob_sentiment(text):\n",
    "    if not text or isinstance(text, float):  # Check for NaN or empty string\n",
    "        return 0  # Neutral sentiment for missing text\n",
    "    return TextBlob(text).sentiment.polarity"
   ]
  },
  {
   "cell_type": "code",
   "execution_count": null,
   "metadata": {},
   "outputs": [],
   "source": [
    "def vader_sentiment(text):\n",
    "    if not text or isinstance(text, float):  # Check for NaN or empty string\n",
    "        return 0  # Missing text has neutral sentiment\n",
    "    return vader_analyzer.polarity_scores(text)['compound']"
   ]
  },
  {
   "cell_type": "code",
   "execution_count": null,
   "metadata": {},
   "outputs": [],
   "source": [
    "def bow_sentiment(text, vectorizer=None):\n",
    "    if not text or isinstance(text, float):  # Check for NaN or empty string\n",
    "        return 0  # Missing text has neutral sentiment\n",
    "    if vectorizer is None:\n",
    "        vectorizer = CountVectorizer(stop_words='english')\n",
    "        vectorizer.fit([text])  # Fit on single sentence\n",
    "    word_vector = vectorizer.transform([text]).toarray()\n",
    "    return word_vector.mean()  # Using the mean of the feature vector as a basic sentiment score"
   ]
  },
  {
   "cell_type": "code",
   "execution_count": 11,
   "metadata": {},
   "outputs": [],
   "source": [
    "def transformer_sentiment(text):\n",
    "    if not text or isinstance(text, float):  # Check for NaN or empty string\n",
    "        return 0  # Neutral sentiment for missing text\n",
    "    result = transformer_analyzer(text)\n",
    "    return 1 if result[0]['label'] == 'POSITIVE' else -1"
   ]
  },
  {
   "cell_type": "code",
   "execution_count": 12,
   "metadata": {},
   "outputs": [],
   "source": [
    "def preprocess_text(text):\n",
    "    if isinstance(text, str):\n",
    "        text = text.lower()\n",
    "        text = ''.join([char for char in text if char not in string.punctuation])\n",
    "        return text\n",
    "    return '' # Replace NaN or non-strings with 'missing'"
   ]
  },
  {
   "cell_type": "code",
   "execution_count": 13,
   "metadata": {},
   "outputs": [],
   "source": [
    "def train_lstm(X_train, y_train, X_test, y_test, input_shape):\n",
    "    model = Sequential()\n",
    "    model.add(LSTM(100, input_shape=input_shape, return_sequences=True))\n",
    "    model.add(Dropout(0.2))\n",
    "    model.add(LSTM(50, return_sequences=False))\n",
    "    model.add(Dropout(0.2))\n",
    "    model.add(Dense(1, activation='sigmoid'))\n",
    "\n",
    "    model.compile(optimizer='adam', loss='binary_crossentropy', metrics=['accuracy'])\n",
    "    \n",
    "    model.fit(X_train, y_train, epochs=5, batch_size=32, validation_data=(X_test, y_test), verbose=1)\n",
    "    \n",
    "    loss, accuracy = model.evaluate(X_test, y_test)\n",
    "    return accuracy"
   ]
  },
  {
   "cell_type": "code",
   "execution_count": 14,
   "metadata": {},
   "outputs": [],
   "source": [
    "aapl_df['cleaned_text'] = aapl_df['top_5_titles'].apply(preprocess_text)"
   ]
  },
  {
   "cell_type": "code",
   "execution_count": 15,
   "metadata": {},
   "outputs": [],
   "source": [
    "sentiment_methods = {\n",
    "    'textblob': aapl_df['cleaned_text'].apply(textblob_sentiment),\n",
    "    'vader': aapl_df['cleaned_text'].apply(vader_sentiment),\n",
    "    'bow': aapl_df['cleaned_text'].apply(lambda x: bow_sentiment(x)),\n",
    "    'transformer': aapl_df['cleaned_text'].apply(transformer_sentiment)\n",
    "}"
   ]
  },
  {
   "cell_type": "code",
   "execution_count": 16,
   "metadata": {},
   "outputs": [],
   "source": [
    "datasets = {}\n",
    "for method, sentiment in sentiment_methods.items():\n",
    "    aapl_df_temp = aapl_df.copy()\n",
    "    aapl_df_temp[method + '_sentiment'] = sentiment\n",
    "    datasets[method] = aapl_df_temp\n"
   ]
  },
  {
   "cell_type": "code",
   "execution_count": 17,
   "metadata": {},
   "outputs": [
    {
     "name": "stdout",
     "output_type": "stream",
     "text": [
      "Epoch 1/5\n"
     ]
    },
    {
     "name": "stderr",
     "output_type": "stream",
     "text": [
      "/Users/bobbytomlinson/Desktop/Coding/School/CS 549/financialTrendForecasting/ftfVenv/lib/python3.12/site-packages/keras/src/layers/rnn/rnn.py:204: UserWarning: Do not pass an `input_shape`/`input_dim` argument to a layer. When using Sequential models, prefer using an `Input(shape)` object as the first layer in the model instead.\n",
      "  super().__init__(**kwargs)\n"
     ]
    },
    {
     "name": "stdout",
     "output_type": "stream",
     "text": [
      "\u001b[1m32/32\u001b[0m \u001b[32m━━━━━━━━━━━━━━━━━━━━\u001b[0m\u001b[37m\u001b[0m \u001b[1m2s\u001b[0m 9ms/step - accuracy: 0.4767 - loss: nan - val_accuracy: 0.4683 - val_loss: nan\n",
      "Epoch 2/5\n",
      "\u001b[1m32/32\u001b[0m \u001b[32m━━━━━━━━━━━━━━━━━━━━\u001b[0m\u001b[37m\u001b[0m \u001b[1m0s\u001b[0m 2ms/step - accuracy: 0.4527 - loss: nan - val_accuracy: 0.4683 - val_loss: nan\n",
      "Epoch 3/5\n",
      "\u001b[1m32/32\u001b[0m \u001b[32m━━━━━━━━━━━━━━━━━━━━\u001b[0m\u001b[37m\u001b[0m \u001b[1m0s\u001b[0m 2ms/step - accuracy: 0.4767 - loss: nan - val_accuracy: 0.4683 - val_loss: nan\n",
      "Epoch 4/5\n",
      "\u001b[1m32/32\u001b[0m \u001b[32m━━━━━━━━━━━━━━━━━━━━\u001b[0m\u001b[37m\u001b[0m \u001b[1m0s\u001b[0m 2ms/step - accuracy: 0.4927 - loss: nan - val_accuracy: 0.4683 - val_loss: nan\n",
      "Epoch 5/5\n",
      "\u001b[1m32/32\u001b[0m \u001b[32m━━━━━━━━━━━━━━━━━━━━\u001b[0m\u001b[37m\u001b[0m \u001b[1m0s\u001b[0m 2ms/step - accuracy: 0.4995 - loss: nan - val_accuracy: 0.4683 - val_loss: nan\n",
      "\u001b[1m8/8\u001b[0m \u001b[32m━━━━━━━━━━━━━━━━━━━━\u001b[0m\u001b[37m\u001b[0m \u001b[1m0s\u001b[0m 1ms/step - accuracy: 0.4625 - loss: nan\n",
      "Accuracy for textblob: 0.4682539701461792\n",
      "Epoch 1/5\n"
     ]
    },
    {
     "name": "stderr",
     "output_type": "stream",
     "text": [
      "/Users/bobbytomlinson/Desktop/Coding/School/CS 549/financialTrendForecasting/ftfVenv/lib/python3.12/site-packages/keras/src/layers/rnn/rnn.py:204: UserWarning: Do not pass an `input_shape`/`input_dim` argument to a layer. When using Sequential models, prefer using an `Input(shape)` object as the first layer in the model instead.\n",
      "  super().__init__(**kwargs)\n"
     ]
    },
    {
     "name": "stdout",
     "output_type": "stream",
     "text": [
      "\u001b[1m32/32\u001b[0m \u001b[32m━━━━━━━━━━━━━━━━━━━━\u001b[0m\u001b[37m\u001b[0m \u001b[1m2s\u001b[0m 9ms/step - accuracy: 0.4842 - loss: nan - val_accuracy: 0.4683 - val_loss: nan\n",
      "Epoch 2/5\n",
      "\u001b[1m32/32\u001b[0m \u001b[32m━━━━━━━━━━━━━━━━━━━━\u001b[0m\u001b[37m\u001b[0m \u001b[1m0s\u001b[0m 2ms/step - accuracy: 0.5081 - loss: nan - val_accuracy: 0.4683 - val_loss: nan\n",
      "Epoch 3/5\n",
      "\u001b[1m32/32\u001b[0m \u001b[32m━━━━━━━━━━━━━━━━━━━━\u001b[0m\u001b[37m\u001b[0m \u001b[1m0s\u001b[0m 2ms/step - accuracy: 0.5150 - loss: nan - val_accuracy: 0.4683 - val_loss: nan\n",
      "Epoch 4/5\n",
      "\u001b[1m32/32\u001b[0m \u001b[32m━━━━━━━━━━━━━━━━━━━━\u001b[0m\u001b[37m\u001b[0m \u001b[1m0s\u001b[0m 2ms/step - accuracy: 0.4712 - loss: nan - val_accuracy: 0.4683 - val_loss: nan\n",
      "Epoch 5/5\n",
      "\u001b[1m32/32\u001b[0m \u001b[32m━━━━━━━━━━━━━━━━━━━━\u001b[0m\u001b[37m\u001b[0m \u001b[1m0s\u001b[0m 2ms/step - accuracy: 0.4969 - loss: nan - val_accuracy: 0.4683 - val_loss: nan\n",
      "\u001b[1m8/8\u001b[0m \u001b[32m━━━━━━━━━━━━━━━━━━━━\u001b[0m\u001b[37m\u001b[0m \u001b[1m0s\u001b[0m 892us/step - accuracy: 0.4625 - loss: nan\n",
      "Accuracy for vader: 0.4682539701461792\n",
      "Epoch 1/5\n"
     ]
    },
    {
     "name": "stderr",
     "output_type": "stream",
     "text": [
      "/Users/bobbytomlinson/Desktop/Coding/School/CS 549/financialTrendForecasting/ftfVenv/lib/python3.12/site-packages/keras/src/layers/rnn/rnn.py:204: UserWarning: Do not pass an `input_shape`/`input_dim` argument to a layer. When using Sequential models, prefer using an `Input(shape)` object as the first layer in the model instead.\n",
      "  super().__init__(**kwargs)\n"
     ]
    },
    {
     "name": "stdout",
     "output_type": "stream",
     "text": [
      "\u001b[1m32/32\u001b[0m \u001b[32m━━━━━━━━━━━━━━━━━━━━\u001b[0m\u001b[37m\u001b[0m \u001b[1m2s\u001b[0m 9ms/step - accuracy: 0.4824 - loss: nan - val_accuracy: 0.4683 - val_loss: nan\n",
      "Epoch 2/5\n",
      "\u001b[1m32/32\u001b[0m \u001b[32m━━━━━━━━━━━━━━━━━━━━\u001b[0m\u001b[37m\u001b[0m \u001b[1m0s\u001b[0m 2ms/step - accuracy: 0.5111 - loss: nan - val_accuracy: 0.4683 - val_loss: nan\n",
      "Epoch 3/5\n",
      "\u001b[1m32/32\u001b[0m \u001b[32m━━━━━━━━━━━━━━━━━━━━\u001b[0m\u001b[37m\u001b[0m \u001b[1m0s\u001b[0m 2ms/step - accuracy: 0.5074 - loss: nan - val_accuracy: 0.4683 - val_loss: nan\n",
      "Epoch 4/5\n",
      "\u001b[1m32/32\u001b[0m \u001b[32m━━━━━━━━━━━━━━━━━━━━\u001b[0m\u001b[37m\u001b[0m \u001b[1m0s\u001b[0m 2ms/step - accuracy: 0.4826 - loss: nan - val_accuracy: 0.4683 - val_loss: nan\n",
      "Epoch 5/5\n",
      "\u001b[1m32/32\u001b[0m \u001b[32m━━━━━━━━━━━━━━━━━━━━\u001b[0m\u001b[37m\u001b[0m \u001b[1m0s\u001b[0m 2ms/step - accuracy: 0.4982 - loss: nan - val_accuracy: 0.4683 - val_loss: nan\n",
      "\u001b[1m8/8\u001b[0m \u001b[32m━━━━━━━━━━━━━━━━━━━━\u001b[0m\u001b[37m\u001b[0m \u001b[1m0s\u001b[0m 904us/step - accuracy: 0.4625 - loss: nan\n",
      "Accuracy for bow: 0.4682539701461792\n",
      "Epoch 1/5\n"
     ]
    },
    {
     "name": "stderr",
     "output_type": "stream",
     "text": [
      "/Users/bobbytomlinson/Desktop/Coding/School/CS 549/financialTrendForecasting/ftfVenv/lib/python3.12/site-packages/keras/src/layers/rnn/rnn.py:204: UserWarning: Do not pass an `input_shape`/`input_dim` argument to a layer. When using Sequential models, prefer using an `Input(shape)` object as the first layer in the model instead.\n",
      "  super().__init__(**kwargs)\n"
     ]
    },
    {
     "name": "stdout",
     "output_type": "stream",
     "text": [
      "\u001b[1m32/32\u001b[0m \u001b[32m━━━━━━━━━━━━━━━━━━━━\u001b[0m\u001b[37m\u001b[0m \u001b[1m2s\u001b[0m 9ms/step - accuracy: 0.4567 - loss: nan - val_accuracy: 0.4683 - val_loss: nan\n",
      "Epoch 2/5\n",
      "\u001b[1m32/32\u001b[0m \u001b[32m━━━━━━━━━━━━━━━━━━━━\u001b[0m\u001b[37m\u001b[0m \u001b[1m0s\u001b[0m 3ms/step - accuracy: 0.5007 - loss: nan - val_accuracy: 0.4683 - val_loss: nan\n",
      "Epoch 3/5\n",
      "\u001b[1m32/32\u001b[0m \u001b[32m━━━━━━━━━━━━━━━━━━━━\u001b[0m\u001b[37m\u001b[0m \u001b[1m0s\u001b[0m 3ms/step - accuracy: 0.4776 - loss: nan - val_accuracy: 0.4683 - val_loss: nan\n",
      "Epoch 4/5\n",
      "\u001b[1m32/32\u001b[0m \u001b[32m━━━━━━━━━━━━━━━━━━━━\u001b[0m\u001b[37m\u001b[0m \u001b[1m0s\u001b[0m 3ms/step - accuracy: 0.5019 - loss: nan - val_accuracy: 0.4683 - val_loss: nan\n",
      "Epoch 5/5\n",
      "\u001b[1m32/32\u001b[0m \u001b[32m━━━━━━━━━━━━━━━━━━━━\u001b[0m\u001b[37m\u001b[0m \u001b[1m0s\u001b[0m 3ms/step - accuracy: 0.4966 - loss: nan - val_accuracy: 0.4683 - val_loss: nan\n",
      "\u001b[1m8/8\u001b[0m \u001b[32m━━━━━━━━━━━━━━━━━━━━\u001b[0m\u001b[37m\u001b[0m \u001b[1m0s\u001b[0m 1ms/step - accuracy: 0.4625 - loss: nan\n",
      "Accuracy for transformer: 0.4682539701461792\n",
      "The optimal sentiment analysis methodology is: textblob\n"
     ]
    }
   ],
   "source": [
    "results = {}\n",
    "for method, dataset in datasets.items():\n",
    "    # Split the dataset into features (X) and target (y)\n",
    "    X = dataset[['Close', 'SMA_20', 'EMA_20', 'MACD', 'Signal_Line',\n",
    "       'High_20', 'Low_20', 'Fib_23.6', 'Fib_38.2', 'Fib_61.8', '%K', '%D',\n",
    "       'BB_Mid', 'BB_Upper', 'BB_Lower', 'RSI', 'Std_Dev_20', method + '_sentiment']]  # Assume 'price' and 'indicator' are numeric features\n",
    "    y = dataset['Label']  # Replace with your target column\n",
    "\n",
    "    # Split the data into training and testing sets\n",
    "    X_train, X_test, y_train, y_test = train_test_split(X, y, test_size=0.2, random_state=42)\n",
    "\n",
    "    # Standardize the data (if necessary)\n",
    "    scaler = StandardScaler()\n",
    "    X_train_scaled = scaler.fit_transform(X_train)\n",
    "    X_test_scaled = scaler.transform(X_test)\n",
    "\n",
    "    # Reshape the input for LSTM\n",
    "    X_train_scaled = np.reshape(X_train_scaled, (X_train_scaled.shape[0], 1, X_train_scaled.shape[1]))\n",
    "    X_test_scaled = np.reshape(X_test_scaled, (X_test_scaled.shape[0], 1, X_test_scaled.shape[1]))\n",
    "\n",
    "    # Train the LSTM model and get the accuracy\n",
    "    accuracy = train_lstm(X_train_scaled, y_train, X_test_scaled, y_test, input_shape=(X_train_scaled.shape[1], X_train_scaled.shape[2]))\n",
    "    results[method] = accuracy\n",
    "    print(f\"Accuracy for {method}: {accuracy}\")\n",
    "\n",
    "# Determine the best sentiment analysis method\n",
    "best_method = max(results, key=results.get)\n",
    "print(f\"The optimal sentiment analysis methodology is: {best_method}\")"
   ]
  },
  {
   "cell_type": "code",
   "execution_count": 21,
   "metadata": {},
   "outputs": [
    {
     "data": {
      "image/png": "[encoded data removed]",
      "text/plain": [
       "<Figure size 1000x600 with 1 Axes>"
      ]
     },
     "metadata": {},
     "output_type": "display_data"
    }
   ],
   "source": [
    "import matplotlib.pyplot as plt\n",
    "\n",
    "# Prepare data for plotting\n",
    "methods = list(results.keys())\n",
    "accuracies = list(results.values())\n",
    "\n",
    "# Plotting the accuracies as a bar chart\n",
    "plt.figure(figsize=(10, 6))\n",
    "plt.bar(methods, accuracies, color=['blue', 'green', 'orange', 'purple'])\n",
    "plt.xlabel(\"Sentiment Analysis Method\")\n",
    "plt.ylabel(\"Accuracy\")\n",
    "plt.title(\"Accuracy of Different Sentiment Analysis Methods of Stock Buy/Sell Signals\")\n",
    "plt.ylim(0, 1)  # Assuming accuracy ranges from 0 to 1\n",
    "plt.xticks(rotation=45)\n",
    "plt.grid(axis='y', linestyle='--', alpha=0.7)\n",
    "\n",
    "# Annotate bars with accuracy values\n",
    "for i, v in enumerate(accuracies):\n",
    "    plt.text(i, v + 0.01, f\"{v:.5f}\", ha='center', fontweight='bold')\n",
    "\n",
    "plt.show()\n"
   ]
  }
 ],
 "metadata": {
  "kernelspec": {
   "display_name": "ftfVenv",
   "language": "python",
   "name": "python3"
  },
  "language_info": {
   "codemirror_mode": {
    "name": "ipython",
    "version": 3
   },
   "file_extension": ".py",
   "mimetype": "text/x-python",
   "name": "python",
   "nbconvert_exporter": "python",
   "pygments_lexer": "ipython3",
   "version": "3.12.3"
  }
 },
 "nbformat": 4,
 "nbformat_minor": 2
}
