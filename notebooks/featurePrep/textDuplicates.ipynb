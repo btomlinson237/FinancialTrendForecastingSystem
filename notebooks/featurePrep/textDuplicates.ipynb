{
 "cells": [
  {
   "cell_type": "markdown",
   "metadata": {},
   "source": [
    "#### Library Imports\n",
    "Addressing a problem I discovered when attempting to interpolate sentiment data. -Bobby\n"
   ]
  },
  {
   "cell_type": "code",
   "execution_count": 21,
   "metadata": {},
   "outputs": [],
   "source": [
    "import pandas as pd"
   ]
  },
  {
   "cell_type": "code",
   "execution_count": 22,
   "metadata": {},
   "outputs": [],
   "source": [
    "def check_duplicate_dates(df, date_column):\n",
    "    \"\"\"\n",
    "    Checks for duplicate dates in a given DataFrame.\n",
    "\n",
    "    Parameters:\n",
    "        df (pd.DataFrame): The DataFrame to check.\n",
    "        date_column (str): The name of the column containing date values.\n",
    "\n",
    "    Returns:\n",
    "        pd.DataFrame or None: DataFrame with duplicate dates, or None if no duplicates are found.\n",
    "    \"\"\"\n",
    "    # Ensure the date column is in datetime format\n",
    "    df[date_column] = pd.to_datetime(df[date_column])\n",
    "\n",
    "    # Check for duplicates\n",
    "    duplicates = df[df[date_column].duplicated(keep=False)]\n",
    "\n",
    "    if not duplicates.empty:\n",
    "        return duplicates\n",
    "    else:\n",
    "        return None\n",
    "    "
   ]
  },
  {
   "cell_type": "markdown",
   "metadata": {},
   "source": [
    "#### AAPL"
   ]
  },
  {
   "cell_type": "code",
   "execution_count": 36,
   "metadata": {},
   "outputs": [],
   "source": [
    "a_sec = pd.read_csv('../../data/AAPL_SEC.csv')\n",
    "a_fin = pd.read_csv('../../data/AAPL_FULL_FINANCIAL.csv')\n",
    "a_news = pd.read_csv('../../data/cleaned_AAPL_NEWS.csv')"
   ]
  },
  {
   "cell_type": "code",
   "execution_count": 37,
   "metadata": {},
   "outputs": [
    {
     "name": "stdout",
     "output_type": "stream",
     "text": [
      "Duplicates found in DataFrame a_sec:\n",
      "    Unnamed: 0 filing_date                                           sec_text\n",
      "53          25  2024-05-03  Section: Item 7.01: \\n\\nItem 7.01   Regulation...\n",
      "54           1  2024-05-03  Section: Item 1: \\nLegal Proceedings\\nDigital ...\n"
     ]
    }
   ],
   "source": [
    "result = check_duplicate_dates(a_sec, 'filing_date')\n",
    "if result is not None:\n",
    "    print(f\"Duplicates found in DataFrame a_sec:\")\n",
    "    print(result)\n",
    "else:\n",
    "    print(f\"No duplicates found in DataFrame a_sec.\")"
   ]
  },
  {
   "cell_type": "code",
   "execution_count": 25,
   "metadata": {},
   "outputs": [
    {
     "name": "stdout",
     "output_type": "stream",
     "text": [
      "No duplicates found in DataFrame a_fin.\n"
     ]
    },
    {
     "name": "stderr",
     "output_type": "stream",
     "text": [
      "/var/folders/dy/xb1k0n550lv3_x9fkj8wnv3c0000gn/T/ipykernel_1926/1864507804.py:13: FutureWarning: In a future version of pandas, parsing datetimes with mixed time zones will raise an error unless `utc=True`. Please specify `utc=True` to opt in to the new behaviour and silence this warning. To create a `Series` with mixed offsets and `object` dtype, please use `apply` and `datetime.datetime.strptime`\n",
      "  df[date_column] = pd.to_datetime(df[date_column])\n"
     ]
    }
   ],
   "source": [
    "result = check_duplicate_dates(a_fin, 'Date')\n",
    "if result is not None:\n",
    "    print(f\"Duplicates found in DataFrame a_fin:\")\n",
    "    print(result)\n",
    "else:\n",
    "    print(f\"No duplicates found in DataFrame a_fin.\")"
   ]
  },
  {
   "cell_type": "code",
   "execution_count": 26,
   "metadata": {},
   "outputs": [
    {
     "name": "stdout",
     "output_type": "stream",
     "text": [
      "No duplicates found in DataFrame a_news.\n"
     ]
    }
   ],
   "source": [
    "result = check_duplicate_dates(a_news, 'date')\n",
    "if result is not None:\n",
    "    print(f\"Duplicates found in DataFrame a_news:\")\n",
    "    print(result)\n",
    "else:\n",
    "    print(f\"No duplicates found in DataFrame a_news.\")"
   ]
  },
  {
   "cell_type": "markdown",
   "metadata": {},
   "source": [
    "#### JNJ"
   ]
  },
  {
   "cell_type": "code",
   "execution_count": 27,
   "metadata": {},
   "outputs": [],
   "source": [
    "j_sec = pd.read_csv('../../data/JNJ_SEC.csv')\n",
    "j_fin = pd.read_csv('../../data/JNJ_FULL_FINANCIAL.csv')\n",
    "j_news = pd.read_csv('../../data/cleaned_JNJ_NEWS.csv')"
   ]
  },
  {
   "cell_type": "code",
   "execution_count": 28,
   "metadata": {},
   "outputs": [
    {
     "name": "stdout",
     "output_type": "stream",
     "text": [
      "Duplicates found in DataFrame j_sec:\n",
      "    Unnamed: 0 filing_date                                           sec_text\n",
      "6           14  2020-04-29  Section: Item 1A: \\nRISK FACTORS\\nThe Company ...\n",
      "7           78  2020-04-29                                                NaN\n",
      "37          55  2022-04-29  Section: Item 5.02: \\nItem 5.02 Departure of D...\n",
      "38           8  2022-04-29                                                NaN\n",
      "67          31  2023-12-05  Section: Item 5.02: \\nItem 5.02(d). Departure ...\n",
      "68          32  2023-12-05  Section: Item 8.01: \\nItem 8.01    Other Event...\n",
      "73          27  2024-05-01  Section: Item 2.02: \\nItem 2.02     Results of...\n",
      "74           2  2024-05-01                                                NaN\n"
     ]
    }
   ],
   "source": [
    "result = check_duplicate_dates(j_sec, 'filing_date')\n",
    "if result is not None:\n",
    "    print(f\"Duplicates found in DataFrame j_sec:\")\n",
    "    print(result)\n",
    "else:\n",
    "    print(f\"No duplicates found in DataFrame j_sec.\")"
   ]
  },
  {
   "cell_type": "code",
   "execution_count": 29,
   "metadata": {},
   "outputs": [
    {
     "name": "stdout",
     "output_type": "stream",
     "text": [
      "No duplicates found in DataFrame j_fin.\n"
     ]
    },
    {
     "name": "stderr",
     "output_type": "stream",
     "text": [
      "/var/folders/dy/xb1k0n550lv3_x9fkj8wnv3c0000gn/T/ipykernel_1926/1864507804.py:13: FutureWarning: In a future version of pandas, parsing datetimes with mixed time zones will raise an error unless `utc=True`. Please specify `utc=True` to opt in to the new behaviour and silence this warning. To create a `Series` with mixed offsets and `object` dtype, please use `apply` and `datetime.datetime.strptime`\n",
      "  df[date_column] = pd.to_datetime(df[date_column])\n"
     ]
    }
   ],
   "source": [
    "result = check_duplicate_dates(j_fin, 'Date')\n",
    "if result is not None:\n",
    "    print(f\"Duplicates found in DataFrame j_fin:\")\n",
    "    print(result)\n",
    "else:\n",
    "    print(f\"No duplicates found in DataFrame j_fin.\")"
   ]
  },
  {
   "cell_type": "code",
   "execution_count": 30,
   "metadata": {},
   "outputs": [
    {
     "name": "stdout",
     "output_type": "stream",
     "text": [
      "No duplicates found in DataFrame j_news.\n"
     ]
    }
   ],
   "source": [
    "result = check_duplicate_dates(j_news, 'date')\n",
    "if result is not None:\n",
    "    print(f\"Duplicates found in DataFrame j_news:\")\n",
    "    print(result)\n",
    "else:\n",
    "    print(f\"No duplicates found in DataFrame j_news.\")"
   ]
  },
  {
   "cell_type": "markdown",
   "metadata": {},
   "source": [
    "#### Addressing SEC Text Duplicates"
   ]
  },
  {
   "cell_type": "code",
   "execution_count": 31,
   "metadata": {},
   "outputs": [],
   "source": [
    "def condense_duplicates(df, date_column, text_column):\n",
    "    \"\"\"\n",
    "    Condenses duplicate date entries by combining their text values into a single entry.\n",
    "\n",
    "    Parameters:\n",
    "        df (pd.DataFrame): The DataFrame to process.\n",
    "        date_column (str): The name of the column containing date values.\n",
    "        text_column (str): The name of the column containing text values.\n",
    "\n",
    "    Returns:\n",
    "        pd.DataFrame: A DataFrame with condensed duplicate date entries.\n",
    "    \"\"\"\n",
    "    # Ensure the date column is in datetime format\n",
    "    df[date_column] = pd.to_datetime(df[date_column])\n",
    "\n",
    "    # Ensure the text column is string-typed\n",
    "    df[text_column] = df[text_column].fillna(\"\").astype(str)\n",
    "\n",
    "    # Group by the date column and aggregate the text values\n",
    "    condensed_df = df.groupby(date_column, as_index=False).agg({\n",
    "        text_column: ' '.join  # Combine text values into a single string\n",
    "    })\n",
    "\n",
    "    return condensed_df"
   ]
  },
  {
   "cell_type": "code",
   "execution_count": 39,
   "metadata": {},
   "outputs": [
    {
     "name": "stdout",
     "output_type": "stream",
     "text": [
      "No duplicates found in DataFrame a_sec.\n"
     ]
    }
   ],
   "source": [
    "a_sec_new = condense_duplicates(a_sec, 'filing_date', 'sec_text')\n",
    "result = check_duplicate_dates(a_sec_new, 'filing_date')\n",
    "if result is not None:\n",
    "    print(f\"Duplicates found in DataFrame a_sec:\")\n",
    "    print(result)\n",
    "else:\n",
    "    print(f\"No duplicates found in DataFrame a_sec.\")"
   ]
  },
  {
   "cell_type": "code",
   "execution_count": 38,
   "metadata": {},
   "outputs": [
    {
     "name": "stdout",
     "output_type": "stream",
     "text": [
      "No duplicates found in DataFrame j_sec.\n"
     ]
    }
   ],
   "source": [
    "j_sec_new = condense_duplicates(j_sec, 'filing_date', 'sec_text')\n",
    "result = check_duplicate_dates(j_sec_new, 'filing_date')\n",
    "if result is not None:\n",
    "    print(f\"Duplicates found in DataFrame j_sec:\")\n",
    "    print(result)\n",
    "else:\n",
    "    print(f\"No duplicates found in DataFrame j_sec.\")"
   ]
  },
  {
   "cell_type": "code",
   "execution_count": 40,
   "metadata": {},
   "outputs": [],
   "source": [
    "j_sec_new.to_csv('../../data/JNJ_SEC.csv')\n",
    "a_sec_new.to_csv('../../data/AAPL_SEC.csv')"
   ]
  }
 ],
 "metadata": {
  "kernelspec": {
   "display_name": "ftfVenv",
   "language": "python",
   "name": "python3"
  },
  "language_info": {
   "codemirror_mode": {
    "name": "ipython",
    "version": 3
   },
   "file_extension": ".py",
   "mimetype": "text/x-python",
   "name": "python",
   "nbconvert_exporter": "python",
   "pygments_lexer": "ipython3",
   "version": "3.12.3"
  }
 },
 "nbformat": 4,
 "nbformat_minor": 2
}
