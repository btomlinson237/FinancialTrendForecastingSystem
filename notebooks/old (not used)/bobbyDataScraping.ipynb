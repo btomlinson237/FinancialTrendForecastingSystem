{
 "cells": [
  {
   "cell_type": "markdown",
   "metadata": {},
   "source": [
    "#### Library imports"
   ]
  },
  {
   "cell_type": "code",
   "execution_count": 1,
   "metadata": {},
   "outputs": [],
   "source": [
    "import yfinance as yf\n",
    "import requests\n",
    "from bs4 import BeautifulSoup\n",
    "import datetime\n",
    "import pandas as pd\n",
    "from sec_edgar_downloader import Downloader"
   ]
  },
  {
   "cell_type": "markdown",
   "metadata": {},
   "source": [
    "#### Current Config"
   ]
  },
  {
   "cell_type": "code",
   "execution_count": 2,
   "metadata": {},
   "outputs": [],
   "source": [
    "tickers = ['AAPL', 'JNJ']\n",
    "start_day = \"2018-11-07\"\n",
    "end_day = datetime.date.today().isoformat()\n",
    "news_api_key = \"1a30fb5608834a479549a7e2570edba4\""
   ]
  },
  {
   "cell_type": "markdown",
   "metadata": {},
   "source": [
    "#### Pull daily closing prices"
   ]
  },
  {
   "cell_type": "code",
   "execution_count": 3,
   "metadata": {},
   "outputs": [],
   "source": [
    "def scrape_stock_data(stock_symbol, start_day, end_day):\n",
    "    stock = yf.Ticker(stock_symbol)\n",
    "    df = stock.history(start = start_day, end = end_day)\n",
    "    return df[['Close']]"
   ]
  },
  {
   "cell_type": "code",
   "execution_count": null,
   "metadata": {},
   "outputs": [],
   "source": [
    "def get_morningstar_ratings(stock_symbol):\n",
    "    # Placeholder function for the Morningstar scraping process\n",
    "    # In practice, you would need to check the website structure and use requests and BeautifulSoup\n",
    "    return \"Ratings data fetching not implemented due to access restrictions\""
   ]
  },
  {
   "cell_type": "code",
   "execution_count": null,
   "metadata": {},
   "outputs": [],
   "source": [
    "def get_sec_reports(cik, start_date, end_date):\n",
    "    email_address = \"your_email@example.com\"  # Replace with your email address\n",
    "    dl = Downloader(\"sec_reports\", email_address=email_address)\n",
    "    # dl.get_all_available_filings(cik, filing_type=\"10-K\")\n",
    "    dl.get(\"10-K\",cik)\n",
    "    # Additional code to parse downloaded reports and extract relevant text snippets by date\n",
    "    return \"SEC reports parsing logic to be implemented\""
   ]
  },
  {
   "cell_type": "code",
   "execution_count": 6,
   "metadata": {},
   "outputs": [],
   "source": [
    "def get_news_articles(api_key, query, start_date, end_date):\n",
    "    url = (f\"https://newsapi.org/v2/everything?q={query}&from={start_date}&to={end_date}\" \n",
    "           f\"&sortBy=publishedAt&apiKey={api_key}\")\n",
    "    response = requests.get(url)\n",
    "    data = response.json()\n",
    "    articles = [(article['publishedAt'], article['title'], article['description']) for article in data.get('articles', [])]\n",
    "    return articles"
   ]
  },
  {
   "cell_type": "code",
   "execution_count": null,
   "metadata": {},
   "outputs": [],
   "source": [
    "def construct_dataset(stock_symbol, start_date, end_date, news_api_key):\n",
    "    dataset = pd.DataFrame()\n",
    "    stock_data = scrape_stock_data(stock_symbol, start_date, end_date)\n",
    "    stock_data['Label'] = stock_data['Close'].diff().apply(lambda x: 1 if x > 0 else -1)\n",
    "    \n",
    "    news_articles = get_news_articles(news_api_key, stock_symbol, start_date, end_date)\n",
    "    news_df = pd.DataFrame(news_articles, columns=['Date', 'Title', 'Description'])\n",
    "    news_df['Date'] = pd.to_datetime(news_df['Date']).dt.date\n",
    "\n",
    "    # combined_df = pd.merge(stock_data, news_df, on='Date', how='left')\n",
    "    # combined_df['SEC Reports'] = get_sec_reports(stock_symbol, start_date, end_date)  # Simplified placeholder\n",
    "    # dataset = pd.concat([dataset, combined_df], ignore_index=True)\n",
    "\n",
    "    return dataset"
   ]
  },
  {
   "cell_type": "code",
   "execution_count": 8,
   "metadata": {},
   "outputs": [],
   "source": [
    "aapl_df = construct_dataset(tickers[0], start_day, end_day, news_api_key)\n",
    "jnj_df = construct_dataset(tickers[1], start_day, end_day, news_api_key)"
   ]
  },
  {
   "cell_type": "code",
   "execution_count": 9,
   "metadata": {},
   "outputs": [
    {
     "name": "stdout",
     "output_type": "stream",
     "text": [
      "Empty DataFrame\n",
      "Columns: []\n",
      "Index: []\n"
     ]
    }
   ],
   "source": [
    "print(aapl_df.head())"
   ]
  },
  {
   "cell_type": "code",
   "execution_count": 10,
   "metadata": {},
   "outputs": [
    {
     "name": "stdout",
     "output_type": "stream",
     "text": [
      "Empty DataFrame\n",
      "Columns: []\n",
      "Index: []\n"
     ]
    }
   ],
   "source": [
    "print(jnj_df.head())"
   ]
  }
 ],
 "metadata": {
  "kernelspec": {
   "display_name": "ftfVenv",
   "language": "python",
   "name": "python3"
  },
  "language_info": {
   "codemirror_mode": {
    "name": "ipython",
    "version": 3
   },
   "file_extension": ".py",
   "mimetype": "text/x-python",
   "name": "python",
   "nbconvert_exporter": "python",
   "pygments_lexer": "ipython3",
   "version": "3.12.3"
  }
 },
 "nbformat": 4,
 "nbformat_minor": 2
}
