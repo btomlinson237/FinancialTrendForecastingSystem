{
 "cells": [
  {
   "cell_type": "code",
   "execution_count": 1,
   "metadata": {},
   "outputs": [],
   "source": [
    "import yfinance as yf\n",
    "import datetime\n",
    "import pandas as pd"
   ]
  },
  {
   "cell_type": "code",
   "execution_count": 2,
   "metadata": {},
   "outputs": [],
   "source": [
    "tickers = ['AAPL', 'JNJ']\n",
    "start_day = \"2019-11-10\"\n",
    "end_day = \"2024-11-10\""
   ]
  },
  {
   "cell_type": "code",
   "execution_count": 3,
   "metadata": {},
   "outputs": [],
   "source": [
    "def scrape_stock_data(stock_symbol, start_day, end_day):\n",
    "    stock = yf.Ticker(stock_symbol)\n",
    "    df = stock.history(start = start_day, end = end_day)\n",
    "    return df[['Close']]"
   ]
  },
  {
   "cell_type": "code",
   "execution_count": 4,
   "metadata": {},
   "outputs": [],
   "source": [
    "# Function to create buy/sell/hold labels with look-ahead logic\n",
    "def create_labels(stock_data):\n",
    "    # Initialize label column with neutral signals (0)\n",
    "    stock_data['Label'] = 0\n",
    "    holdingStock = False\n",
    "    # Iterate over the stock data and label the buy/sell signals\n",
    "    for i in range(0, len(stock_data) - 1):  # Compare current day with the next day\n",
    "        current_close = stock_data.loc[stock_data.index[i], 'Close']\n",
    "        next_close = stock_data.loc[stock_data.index[i + 1], 'Close']  # Next day's close price\n",
    "        movement = \"\"\n",
    "\n",
    "        if next_close > current_close:\n",
    "            movement = \"INCREASE\"\n",
    "\n",
    "        if next_close < current_close:\n",
    "            movement = \"DECREASE\"\n",
    "\n",
    "        # If the price will increase tomorrow, buy today\n",
    "        if movement == \"INCREASE\" and holdingStock == False:\n",
    "            stock_data.loc[stock_data.index[i], 'Label'] = 1  # Buy signal\n",
    "            holdingStock = True\n",
    "\n",
    "        # If the price will decrease tomorrow, sell today\n",
    "        elif movement == \"DECREASE\" and holdingStock == True:\n",
    "            stock_data.loc[stock_data.index[i], 'Label'] = -1  # Sell signal\n",
    "            holdingStock = False\n",
    "\n",
    "    # Remove the last row since it won't have a next day to compare\n",
    "    stock_data = stock_data[:-1]\n",
    "\n",
    "    return stock_data"
   ]
  },
  {
   "cell_type": "code",
   "execution_count": 5,
   "metadata": {},
   "outputs": [],
   "source": [
    "def construct_dataset(stock_symbol, start_date, end_date, news_api_key=None):\n",
    "    stock_data = scrape_stock_data(stock_symbol, start_date, end_date)\n",
    "\n",
    "    # Add the date column\n",
    "\n",
    "    # Call the create_labels function to assign buy/sell/hold labels\n",
    "    stock_data = create_labels(stock_data)\n",
    "\n",
    "    return stock_data"
   ]
  },
  {
   "cell_type": "code",
   "execution_count": 6,
   "metadata": {},
   "outputs": [
    {
     "name": "stdout",
     "output_type": "stream",
     "text": [
      "                               Close  Label\n",
      "Date                                       \n",
      "2019-11-11 00:00:00-05:00  63.549580      0\n",
      "2019-11-12 00:00:00-05:00  63.491398      1\n",
      "2019-11-13 00:00:00-05:00  64.099754     -1\n",
      "2019-11-14 00:00:00-05:00  63.656219      1\n",
      "2019-11-15 00:00:00-05:00  64.412422      0\n"
     ]
    }
   ],
   "source": [
    "aapl_df = construct_dataset(tickers[0], start_day, end_day)\n",
    "print(aapl_df.head())"
   ]
  },
  {
   "cell_type": "code",
   "execution_count": 7,
   "metadata": {},
   "outputs": [],
   "source": [
    "# aapl_df.to_csv('../data/AAPL_FINANCIAL')"
   ]
  },
  {
   "cell_type": "code",
   "execution_count": 8,
   "metadata": {},
   "outputs": [
    {
     "name": "stdout",
     "output_type": "stream",
     "text": [
      "                                Close  Label\n",
      "Date                                        \n",
      "2019-11-11 00:00:00-05:00  115.011147      0\n",
      "2019-11-12 00:00:00-05:00  114.462151      0\n",
      "2019-11-13 00:00:00-05:00  114.392441      0\n",
      "2019-11-14 00:00:00-05:00  114.122292      1\n",
      "2019-11-15 00:00:00-05:00  117.590576     -1\n"
     ]
    }
   ],
   "source": [
    "jnj_df = construct_dataset(tickers[1], start_day, end_day)\n",
    "print(jnj_df.head())"
   ]
  },
  {
   "cell_type": "code",
   "execution_count": 9,
   "metadata": {},
   "outputs": [],
   "source": [
    "# jnj_df.to_csv('../data/JNJ_FINANCIAL')"
   ]
  }
 ],
 "metadata": {
  "kernelspec": {
   "display_name": "ftfVenv",
   "language": "python",
   "name": "python3"
  },
  "language_info": {
   "codemirror_mode": {
    "name": "ipython",
    "version": 3
   },
   "file_extension": ".py",
   "mimetype": "text/x-python",
   "name": "python",
   "nbconvert_exporter": "python",
   "pygments_lexer": "ipython3",
   "version": "3.12.3"
  }
 },
 "nbformat": 4,
 "nbformat_minor": 2
}
